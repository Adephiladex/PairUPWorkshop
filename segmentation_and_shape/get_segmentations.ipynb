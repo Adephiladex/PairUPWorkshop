{
 "cells": [
  {
   "cell_type": "code",
   "execution_count": null,
   "metadata": {},
   "outputs": [],
   "source": [
    "import numpy as np\n",
    "from pathlib import Path\n",
    "from bioio.bio_image import imread\n",
    "from ec2_metadata import ec2_metadata\n",
    "from bioio.writers import OmeTiffWriter\n",
    "from skimage.filters import threshold_otsu, apply_hysteresis_threshold\n",
    "from skimage.measure import label"
   ]
  },
  {
   "cell_type": "code",
   "execution_count": null,
   "metadata": {},
   "outputs": [],
   "source": [
    "DATA_DIR= Path(r'\\\\allen\\aics\\assay-dev\\users\\Sandi\\pair-up\\camille\\comb_img/')\n",
    "WORKING_DIR = Path.cwd() / 'results'\n",
    "try:\n",
    "    iid = ec2_metadata.instance_id\n",
    "    print(f\"This is an EC2 instance with id {iid}\")\n",
    "    DATA_DIR= Path('S:\\camille\\comb_img')\n",
    "    WORKING_DIR = Path('C:\\workshop\\data\\camille')\n",
    "except: pass\n",
    "WORKING_DIR.mkdir(exist_ok=True)"
   ]
  },
  {
   "cell_type": "code",
   "execution_count": null,
   "metadata": {},
   "outputs": [],
   "source": [
    "def normalize(img, high=99.9, low = 0.1, channelwise=False):\n",
    "    if channelwise:\n",
    "        for i in range(img.shape[0]):\n",
    "            img[i] = normalize(img[i], high, low)\n",
    "        return img\n",
    "    # clip extreme values\n",
    "    img = np.clip(img, np.percentile(img, low), np.percentile(img, high))\n",
    "    # normalize\n",
    "    img = (img-img.mean())/img.std()\n",
    "    return img"
   ]
  },
  {
   "cell_type": "code",
   "execution_count": null,
   "metadata": {},
   "outputs": [],
   "source": [
    "def load(path, channel=None):\n",
    "    # Z and C are switched in the metadata\n",
    "    img = imread(path).squeeze().transpose(1, 0, 2, 3)\n",
    "    if isinstance(channel, int):\n",
    "        return img[channel]\n",
    "    return img"
   ]
  },
  {
   "cell_type": "code",
   "execution_count": null,
   "metadata": {},
   "outputs": [],
   "source": [
    "def segment_cell_body(img):\n",
    "    # automatically find high threshold\n",
    "    thresh_high = threshold_otsu(img)\n",
    "    # use lower threshold for hysteresis\n",
    "    thresh_low = thresh_high * 0.4\n",
    "    # apply hysteresis - helps connect fine axons/dendrites to soma\n",
    "    binary = apply_hysteresis_threshold(img, thresh_low, thresh_high)\n",
    "    # label connected components\n",
    "    label_img = label(binary)\n",
    "    return label_img\n",
    "\n",
    "def segment_dapi(img):\n",
    "    # simple thresholding and labeling\n",
    "    thresh = threshold_otsu(img)\n",
    "    return label(img > thresh)\n",
    "\n",
    "def generate_segmentations():\n",
    "    for fn in DATA_DIR.glob('*tif*'):\n",
    "        img = load(fn)\n",
    "        img = normalize(img, channelwise=True)\n",
    "        \n",
    "        ch0_seg = segment_dapi(img[0])\n",
    "        cell_body_seg = segment_cell_body(img[1])\n",
    "        dapi_seg = segment_dapi(img[2])\n",
    "        # remove segmentations outside cell body\n",
    "        ch0_seg[cell_body_seg==0] = 0\n",
    "\n",
    "        merged = np.stack([ch0_seg, cell_body_seg, dapi_seg], axis=0).astype(np.uint16)\n",
    "        OmeTiffWriter().save(uri=WORKING_DIR/fn.name, data=merged)\n",
    "\n",
    "        print(f'Saved {fn.name}')"
   ]
  },
  {
   "cell_type": "code",
   "execution_count": null,
   "metadata": {},
   "outputs": [],
   "source": [
    "generate_segmentations()"
   ]
  }
 ],
 "metadata": {
  "kernelspec": {
   "display_name": "workshop",
   "language": "python",
   "name": "python3"
  },
  "language_info": {
   "codemirror_mode": {
    "name": "ipython",
    "version": 3
   },
   "file_extension": ".py",
   "mimetype": "text/x-python",
   "name": "python",
   "nbconvert_exporter": "python",
   "pygments_lexer": "ipython3",
   "version": "3.9.2rc1"
  }
 },
 "nbformat": 4,
 "nbformat_minor": 2
}
